{
 "cells": [
  {
   "cell_type": "markdown",
   "id": "b5a8ad2e",
   "metadata": {
    "id": "b5a8ad2e"
   },
   "source": [
    "# ECE 720 Assignment Hands-on Project 2"
   ]
  },
  {
   "cell_type": "markdown",
   "id": "90d5331d",
   "metadata": {
    "id": "90d5331d"
   },
   "source": [
    "In this assignment, we will explore how to test a DL model.\n",
    "\n",
    "Before working on the assignment, it is highly recommended to read two papers: [DeepGauge: Multi-Granularity Testing Criteria for Deep Learning Systems](https://arxiv.org/pdf/1803.07519.pdf) and [DeepHunter: A Coverage-Guided Fuzz Testing Framework for Deep Neural Networks](https://dl.acm.org/doi/pdf/10.1145/3293882.3330579?casa_token=mGUOGHi9qrcAAAAA:G28BWlY6XueMERjYHKWyW7w5jfGQrzF3fyml6ThPX0Rq8yUE4NYTz28s83fllXvaRItcpflNbBtdEYs). Our materials will be highly relevant to these two papers.\n"
   ]
  },
  {
   "cell_type": "code",
   "execution_count": 1,
   "id": "uyXTIyYSZ7Mh",
   "metadata": {
    "colab": {
     "base_uri": "https://localhost:8080/"
    },
    "id": "uyXTIyYSZ7Mh",
    "outputId": "0bc08945-f482-4696-e473-5ccbfc65c4c0"
   },
   "outputs": [
    {
     "name": "stdout",
     "output_type": "stream",
     "text": [
      "--2022-03-01 13:48:16--  https://github.com/momentum-openspace/momentum-openspace.github.io/raw/new-template/files/asg2/asg2.zip\n",
      "Resolving github.com (github.com)... 140.82.112.4\n",
      "Connecting to github.com (github.com)|140.82.112.4|:443... connected.\n",
      "HTTP request sent, awaiting response... 302 Found\n",
      "Location: https://raw.githubusercontent.com/momentum-openspace/momentum-openspace.github.io/new-template/files/asg2/asg2.zip [following]\n",
      "--2022-03-01 13:48:17--  https://raw.githubusercontent.com/momentum-openspace/momentum-openspace.github.io/new-template/files/asg2/asg2.zip\n",
      "Resolving raw.githubusercontent.com (raw.githubusercontent.com)... 185.199.109.133, 185.199.108.133, 185.199.110.133, ...\n",
      "Connecting to raw.githubusercontent.com (raw.githubusercontent.com)|185.199.109.133|:443... connected.\n",
      "HTTP request sent, awaiting response... 200 OK\n",
      "Length: 770861 (753K) [application/zip]\n",
      "Saving to: ‘asg2.zip’\n",
      "\n",
      "asg2.zip            100%[===================>] 752.79K  --.-KB/s    in 0.08s   \n",
      "\n",
      "2022-03-01 13:48:17 (8.76 MB/s) - ‘asg2.zip’ saved [770861/770861]\n",
      "\n",
      "Archive:  asg2.zip\n",
      "  inflating: all_utils.cpython-37.pyc  \n",
      "  inflating: __MACOSX/._all_utils.cpython-37.pyc  \n",
      "  inflating: all_utils.cpython-38.pyc  \n",
      "  inflating: __MACOSX/._all_utils.cpython-38.pyc  \n",
      "  inflating: all_utils.cpython-39.pyc  \n",
      "  inflating: __MACOSX/._all_utils.cpython-39.pyc  \n",
      "  inflating: lenet.pt                \n",
      "   creating: pic/\n",
      "  inflating: pic/Intro.png           \n",
      "  inflating: pic/traditional.png     \n",
      "  inflating: pic/alg_2.png           \n",
      "  inflating: pic/alg_1.png           \n",
      "  inflating: pic/lenet_vis.png       \n",
      "  inflating: pic/AI.png              \n",
      "  inflating: train_idx.pt            \n"
     ]
    }
   ],
   "source": [
    "! wget https://github.com/momentum-openspace/momentum-openspace.github.io/raw/new-template/files/asg2/asg2.zip\n",
    "! unzip asg2.zip"
   ]
  },
  {
   "cell_type": "code",
   "execution_count": 1,
   "id": "DtTjWTr62YZS",
   "metadata": {
    "id": "DtTjWTr62YZS",
    "scrolled": true
   },
   "outputs": [],
   "source": [
    "import imp\n",
    "import platform\n",
    "\n",
    "py_version = platform.python_version().split('.')[1]\n",
    "if py_version == '7':\n",
    "    all_utils = imp.load_compiled(\"all_utils\", \"./all_utils.cpython-37.pyc\")\n",
    "elif py_version == '8':\n",
    "    all_utils = imp.load_compiled(\"all_utils\", \"./all_utils.cpython-38.pyc\")\n",
    "elif py_version == '9':\n",
    "    all_utils = imp.load_compiled(\"all_utils\", \"./all_utils.cpython-39.pyc\")\n",
    "else:\n",
    "    raise NotImplementedError('Only supports Python>=3.7')"
   ]
  },
  {
   "cell_type": "markdown",
   "id": "01af4c0a",
   "metadata": {
    "id": "01af4c0a"
   },
   "source": [
    "### Content:\n",
    "\n",
    "1. The difference between traditional software and AI model <font color='red'> (4 points)</font>\n",
    "\n",
    "    - Please summarize the characteristics of traditional software and compare it to AI model (2 points)\n",
    "    - Please summarize the characteristics of AI model and compare it to traditional software (2 points)\n",
    "    \n",
    "    \n",
    "2. Quality assurance of DL models <font color='red'> (13 points)</font>\n",
    "\n",
    "    2.1 Testing metric <font color='red'> (7 points)</font>\n",
    "    \n",
    "    - Profile the DNN on training data (3 points)\n",
    "    - Implement Neuron Boundary Coverage (4 points)\n",
    "    \n",
    "    2.2 Mutation <font color='red'> (6 points)</font>\n",
    "\n",
    "    - Answer the question (2 points)\n",
    "    - Complete Algorithm2 (4 points)\n",
    "\n",
    "3. Experiments <font color='red'> (3 points)</font>\n",
    "    \n",
    "    - Conduct experiments on mutation testing.\n"
   ]
  },
  {
   "cell_type": "markdown",
   "id": "d7863c4e",
   "metadata": {
    "id": "d7863c4e"
   },
   "source": [
    "## 1. The difference between traditional software and AI model <font color='red' size=5> (4 points)</font>"
   ]
  },
  {
   "cell_type": "markdown",
   "id": "e9140225",
   "metadata": {
    "id": "e9140225"
   },
   "source": [
    "![Intro.png](https://raw.githubusercontent.com/momentum-openspace/momentum-openspace.github.io/new-template/files/asg2/pic/Intro.png)"
   ]
  },
  {
   "cell_type": "markdown",
   "id": "5a61d722",
   "metadata": {
    "id": "5a61d722"
   },
   "source": [
    "<center> Difference between traditional software and AI models (From DeepHunter)</center>"
   ]
  },
  {
   "cell_type": "code",
   "execution_count": 2,
   "id": "fc0d5db5",
   "metadata": {
    "id": "fc0d5db5"
   },
   "outputs": [],
   "source": [
    "# Load necessary package for the experiments\n",
    "import torch\n",
    "import torch.nn as nn\n",
    "import torch.nn.functional as F\n",
    "import torch.optim as optim\n",
    "import torch.utils.data as data\n",
    "\n",
    "import torchvision.transforms as transforms\n",
    "import torchvision.datasets as datasets\n",
    "import matplotlib.pyplot as plt\n",
    "import numpy as np\n",
    "\n",
    "def plot_image(image):\n",
    "    fig = plt.figure()\n",
    "    image = np.squeeze(image)\n",
    "    plt.imshow(image, cmap='bone')"
   ]
  },
  {
   "cell_type": "code",
   "execution_count": 3,
   "id": "52807591",
   "metadata": {
    "id": "52807591",
    "scrolled": true
   },
   "outputs": [],
   "source": [
    "# Get ready for MNIST dataset\n",
    "data_path = './data'\n",
    "train_data = datasets.MNIST(root=data_path, train=True, download=True)"
   ]
  },
  {
   "cell_type": "markdown",
   "id": "cefb5c19",
   "metadata": {
    "id": "cefb5c19"
   },
   "source": [
    "### 1.1 Traditional software"
   ]
  },
  {
   "cell_type": "markdown",
   "id": "932cbd9a",
   "metadata": {
    "id": "932cbd9a"
   },
   "source": [
    "Now assume you are a developer who wants to develop a software for recognizing hand-written digit."
   ]
  },
  {
   "cell_type": "code",
   "execution_count": 4,
   "id": "32efa840",
   "metadata": {
    "id": "32efa840"
   },
   "outputs": [],
   "source": [
    "# Turn images into numpy array.\n",
    "number_a = np.array(train_data[0][0])\n",
    "number_b = np.array(train_data[600][0])"
   ]
  },
  {
   "cell_type": "code",
   "execution_count": 9,
   "id": "1331717d",
   "metadata": {
    "colab": {
     "base_uri": "https://localhost:8080/",
     "height": 232
    },
    "id": "1331717d",
    "outputId": "fef20630-35e3-4e73-f977-3eb172e125c8"
   },
   "outputs": [
    {
     "data": {
      "text/plain": [
       "Text(0.5, 0, 'Image b')"
      ]
     },
     "execution_count": 9,
     "metadata": {},
     "output_type": "execute_result"
    },
    {
     "data": {
      "image/png": "[encoded data removed]",
      "text/plain": [
       "<Figure size 432x288 with 2 Axes>"
      ]
     },
     "metadata": {
      "needs_background": "light"
     },
     "output_type": "display_data"
    }
   ],
   "source": [
    "# Visualize two examples.\n",
    "fig = plt.figure()\n",
    "ax = fig.add_subplot(1, 2, 1)\n",
    "ax.imshow(number_a, cmap='bone')\n",
    "ax.set_xlabel(\"Image a\")\n",
    "ax = fig.add_subplot(1, 2, 2)\n",
    "ax.imshow(number_b, cmap='bone')\n",
    "ax.set_xlabel(\"Image b\")"
   ]
  },
  {
   "cell_type": "code",
   "execution_count": 10,
   "id": "3e22fc43",
   "metadata": {
    "colab": {
     "base_uri": "https://localhost:8080/"
    },
    "id": "3e22fc43",
    "outputId": "53f66f32-8a72-4937-9f44-764f1488981d"
   },
   "outputs": [
    {
     "name": "stdout",
     "output_type": "stream",
     "text": [
      "The sum of pixel value of image A is: 27525\n",
      "The sum of pixel value of image B is: 15734\n"
     ]
    }
   ],
   "source": [
    "# Compute the sum of pixel value of each images.\n",
    "print(\"The sum of pixel value of image A is: {}\".format(np.sum(number_a.reshape(-1))))\n",
    "print(\"The sum of pixel value of image B is: {}\".format(np.sum(number_b.reshape(-1))))"
   ]
  },
  {
   "cell_type": "markdown",
   "id": "188fc137",
   "metadata": {
    "id": "188fc137"
   },
   "source": [
    "You may go through the examples above and find that number \"5\" has larger sum of pixel value than that of number \"9\", based on this observation, a naive judegement could be made: For those images with sum of pixel value is above `20000`, it is the digit `5`, otherwise it is the digit `9`"
   ]
  },
  {
   "cell_type": "code",
   "execution_count": 19,
   "id": "164de35e",
   "metadata": {
    "colab": {
     "base_uri": "https://localhost:8080/"
    },
    "id": "164de35e",
    "outputId": "e7c55635-50f5-42d5-a606-825f4db1e1c6"
   },
   "outputs": [
    {
     "name": "stdout",
     "output_type": "stream",
     "text": [
      "Image a is 5\n",
      "Image b is 9\n"
     ]
    }
   ],
   "source": [
    "def recognize_digit(image):\n",
    "    # --- Below is the logic of this function ---\n",
    "    if np.sum(image.reshape(-1)) > 20000:\n",
    "        return 5\n",
    "    else:\n",
    "        return 9\n",
    "    # --- Above is the logic of this function ---\n",
    "\n",
    "print(\"Image a is {}\".format(recognize_digit(number_a)) )\n",
    "print(\"Image b is {}\".format(recognize_digit(number_b)) )"
   ]
  },
  {
   "cell_type": "markdown",
   "id": "fbc7e130",
   "metadata": {
    "id": "fbc7e130"
   },
   "source": [
    "<font color='blue' size=4> Please summarize the characteristics of traditional software and compare it to AI model</font> <font color='red' size=4> (2 points)</font>"
   ]
  },
  {
   "cell_type": "markdown",
   "id": "T-Hg-KvCtWc7",
   "metadata": {
    "id": "T-Hg-KvCtWc7"
   },
   "source": [
    "![traditional.png](https://raw.githubusercontent.com/momentum-openspace/momentum-openspace.github.io/new-template/files/asg2/pic/traditional.png)"
   ]
  },
  {
   "cell_type": "markdown",
   "id": "eb9a17ec",
   "metadata": {
    "id": "eb9a17ec"
   },
   "source": [
    "### 1.2 AI model"
   ]
  },
  {
   "cell_type": "markdown",
   "id": "d91bd88f",
   "metadata": {
    "id": "d91bd88f"
   },
   "source": [
    "Now let's see the AI model. We have a pre-trained AI model ready for you and let's load it."
   ]
  },
  {
   "cell_type": "code",
   "execution_count": 5,
   "id": "b87b3901",
   "metadata": {
    "id": "b87b3901"
   },
   "outputs": [],
   "source": [
    "from all_utils import Lenet5\n",
    "from all_utils import load_model\n",
    "\n",
    "model = load_model(Lenet5, \"./lenet.pt\")"
   ]
  },
  {
   "cell_type": "markdown",
   "id": "94bbf6d3",
   "metadata": {
    "id": "94bbf6d3"
   },
   "source": [
    "<center> The AI model architecture </center>"
   ]
  },
  {
   "cell_type": "markdown",
   "id": "ee6fe059",
   "metadata": {
    "id": "ee6fe059"
   },
   "source": [
    "<img src=\"https://raw.githubusercontent.com/momentum-openspace/momentum-openspace.github.io/new-template/files/asg2/pic/lenet_vis.png\" height=1000 weight=600> "
   ]
  },
  {
   "cell_type": "markdown",
   "id": "3ddd9b44",
   "metadata": {
    "id": "3ddd9b44"
   },
   "source": [
    "The above figure shows the computation graph of the AI model. In each element, there are some computations going on. All the blue components with \".weight\" can also be taken as \"neurons.\" \n",
    "\n",
    "Let's predict the image using AI model."
   ]
  },
  {
   "cell_type": "code",
   "execution_count": 13,
   "id": "ee1713d1",
   "metadata": {
    "colab": {
     "base_uri": "https://localhost:8080/"
    },
    "id": "ee1713d1",
    "outputId": "23314c43-d0a7-4294-ec8e-f178b844aaef"
   },
   "outputs": [
    {
     "name": "stdout",
     "output_type": "stream",
     "text": [
      "Image a is 5\n",
      "Image b is 9\n"
     ]
    }
   ],
   "source": [
    "def recognize_digit_AI(image, model):\n",
    "    tensor = all_utils.image_to_tensor(image)\n",
    "    # --- Below is the prediction made by the model ---\n",
    "    with torch.no_grad():\n",
    "        result = model(tensor)\n",
    "    # --- Above is the prediction made by the model ---\n",
    "    return np.argmax(result.cpu(), axis = 1)[0]\n",
    "\n",
    "print(\"Image a is {}\".format(recognize_digit_AI(number_a, model)) )\n",
    "print(\"Image b is {}\".format(recognize_digit_AI(number_b, model)) )"
   ]
  },
  {
   "cell_type": "markdown",
   "id": "c88ff572",
   "metadata": {
    "id": "c88ff572"
   },
   "source": [
    "<font color='blue' size=4> Please summarize the characteristics of AI model and compare it to traditional software </font> <font color='red' size=4> (2 points)</font>"
   ]
  },
  {
   "cell_type": "markdown",
   "id": "7563f45a",
   "metadata": {
    "id": "7563f45a"
   },
   "source": [
    "Hint: Neurons in the AI model can interact with each other. They are connected with complex non-linear activation functions."
   ]
  },
  {
   "cell_type": "markdown",
   "id": "b5306096",
   "metadata": {
    "id": "b5306096"
   },
   "source": [
    "![Title](https://raw.githubusercontent.com/momentum-openspace/momentum-openspace.github.io/new-template/files/asg2/pic/AI.png)"
   ]
  },
  {
   "cell_type": "markdown",
   "id": "f13e7478",
   "metadata": {
    "id": "f13e7478"
   },
   "source": [
    "## 2. Quality assurance of DL models <font color='red' size=5> (13 points)</font>"
   ]
  },
  {
   "cell_type": "markdown",
   "id": "64b7cb08",
   "metadata": {
    "id": "64b7cb08"
   },
   "source": [
    "So far, we have explored the differences between deep learning models and traditional software. Now let's think about one of the main topics in this course: how to improve the quality of machine learning systems. \n",
    "\n",
    "To do this, let's first review the developing process of classical software:\n",
    "\n",
    "`Software development --> Software testing --> Software debugging --> Software development.`\n",
    "\n",
    "And machine learning systems have similar process:\n",
    "\n",
    "`Model training --> Model evaluation --> Model debugging/ Architecture improvement --> Model (re)training.`\n",
    "\n",
    "Normally Model evaluation is done by testing on test set. Similar to the software testing procedure, this is a very important step towards quality assurance of DL models. However, there are multiple questions remaining:\n",
    "\n",
    "1. The size of the test set is usually limited, because it could be expensive to collect data with labeled data. Hence it's hard to cover all the corner cases in the test set. \n",
    "\n",
    "    a. To solve this problem, we need to develop a method to generate more test cases. \n",
    "    b. Like test generation in traditional automated software testing, we need to generate \"valid\" test cases. For example, you can not generate a cat image to test the handwritten digit recognition system.\n",
    "    \n",
    "\n",
    "2. Let's suppose that you now have a large enough test set. The next question is, how can we tell whether the ML system has been comprehensively tested or not. Or, in other words, what is the criteria to stop the testing and how to measure whether the ML system has been well-tested?\n",
    "\n",
    "    a. The \"code coverage\" metric is usually used in traditional software, and we also have practiced it in the last assignment. If we know that every logical branch in the software has been covered in the testing, we can be more confident to say that this software has been comprehensive tested.  \n",
    "    \n",
    "    \n",
    "3. Now if you have a testing metric like \"code coverage\" and a test case generation method for testing machine learning systems, the next step is to generate as diverse test cases as you can to improve the testing coverage. Is it possible to \"guide\" the test case generation process instead of do it randomly?\n",
    "\n",
    "We will cover all these three questions in the following"
   ]
  },
  {
   "cell_type": "markdown",
   "id": "06b69b7f",
   "metadata": {
    "id": "06b69b7f"
   },
   "source": [
    "### Goal: Test AI models efficiently\n",
    "\n",
    "### TODO:\n",
    "\n",
    "### 1. Define a testing metric that is suitable for testing DL models.\n",
    "    \n",
    "### 2. Find possible test cases generation methods.\n",
    "    \n",
    "### 3. Design metric-guidance testing technique."
   ]
  },
  {
   "cell_type": "markdown",
   "id": "601bb649",
   "metadata": {
    "id": "601bb649"
   },
   "source": [
    "### 2.1 Testing metric <font color='red' size=3> (7 points)</font>"
   ]
  },
  {
   "cell_type": "markdown",
   "id": "d0b2e15c",
   "metadata": {
    "id": "d0b2e15c"
   },
   "source": [
    "#### 2.1.1 Definition of \"neuron\""
   ]
  },
  {
   "cell_type": "markdown",
   "id": "0f6536e3",
   "metadata": {
    "id": "0f6536e3"
   },
   "source": [
    "In a DNN with only linear layer enabled ([MLP](https://en.wikipedia.org/wiki/Multilayer_perceptron)), the term \"neuron\" represents a computing unit. Each neuron is fully-connected with all neurons on the next layer, and each connection has a weight. \n",
    "\n",
    "`output = linear_layer(input)`.\n",
    "    \n",
    "However, in another kind of neural network called Convolutional Neural Networks (CNNs), which is known more prevalent in the image classification task, there is a special computation unit called \"convolution\". We refer the reader to a nice resource from Stanford University: [Convolutional Neural Networks (CNNs / ConvNets)](https://cs231n.github.io/convolutional-networks/) if you are not familiar with CNNs. Generally speaking, it is more ambiguous to describe a \"neuron\" in CNNs. We will follow the insights in the aforementioned material:\n",
    "\n",
    "> Every entry in the 3D output volume can also be interpreted as an output of a neuron that looks at only a small region in the input and shares parameters with all neurons to the left and right spatially (since these numbers all result from applying the same filter).\n",
    "    \n"
   ]
  },
  {
   "cell_type": "code",
   "execution_count": 6,
   "id": "2919d5b2",
   "metadata": {
    "id": "2919d5b2",
    "scrolled": true
   },
   "outputs": [],
   "source": [
    "# Before the experiment, let's first load the data\n",
    "train_loader = all_utils.get_training_loader(\"./train_idx.pt\")\n",
    "test_loader = all_utils.get_test_loader()"
   ]
  },
  {
   "cell_type": "markdown",
   "id": "d47c78ef",
   "metadata": {
    "id": "d47c78ef"
   },
   "source": [
    "Notice: \n",
    "\n",
    "Here the train_loader and test_loader are `torch.utils.data.DataLoader` (reference: [dataloader](https://pytorch.org/docs/stable/data.html#torch.utils.data.DataLoader)). It works like an iterator that automatically returns you the image in each `batch`. The batch size is set to 64 here. In other words, for the tensor returned by the loader, the returned tensor shape is (64, 1, 28, 28), where 64 is the batch_size, 1 is the number of channel, the remaining two dimensions are the height and width of the image. \n",
    "\n",
    "(64, 1, 28, 28) --> (N, C, H, W)\n",
    "\n",
    "While doing image processing, the image is usually in the format (H, W, C), where channel is in the last dimension.\n",
    "\n",
    "You may wonder why pytorch chooses (N, C, H, W). This is because in this format the memory access pattern is beneficial for convolution implementations. If you are interested for this, you can check this [presentation](https://developer.download.nvidia.com/video/gputechconf/gtc/2019/presentation/s9926-tensor-core-performance-the-ultimate-guide.pdf)"
   ]
  },
  {
   "cell_type": "markdown",
   "id": "33d7f961",
   "metadata": {
    "id": "33d7f961"
   },
   "source": [
    "#### 2.1.2 Introduction to DNN testing metric: Neuron Boundary Coverage"
   ]
  },
  {
   "cell_type": "markdown",
   "id": "61481c82",
   "metadata": {
    "id": "61481c82"
   },
   "source": [
    "In this section we will explore the testing metric at Neuron-level. You can check for the paper [DeepGauge](https://dl.acm.org/doi/pdf/10.1145/3238147.3238202?casa_token=xNahdy3nsNUAAAAA:FVq-aGLpMPYO9s2MgstFsej05GTcGLCnaOZzse1k61C92jqyli4iCYLFHYopNk8PIPzqbVSwDqssC4I) for more information.\n",
    "\n",
    "Intuitively, we have \"code coverage\" for classical software. If we takes the neurons as the basic components in a DNN, we can also define neuron-based coverage metric to measure how good the testing is and guide the testing. This is the basic logic behind Neuron-Level Coverage Criteria in [DeepGauge](https://dl.acm.org/doi/pdf/10.1145/3238147.3238202?casa_token=xNahdy3nsNUAAAAA:FVq-aGLpMPYO9s2MgstFsej05GTcGLCnaOZzse1k61C92jqyli4iCYLFHYopNk8PIPzqbVSwDqssC4I). \n",
    "\n",
    "The functionality (i.e., neuron output) for each neuron of a DNN should follow some statistical distribution, and this distribution is implicitly determined by the training data. The output distribution analysis would allow to approximately characterize how wide the range of each neuron's output on the training data."
   ]
  },
  {
   "cell_type": "markdown",
   "id": "cfb5706b",
   "metadata": {
    "id": "cfb5706b"
   },
   "source": [
    "So, we can first analyze the output distribution of a neuron in the training data, find its distribution, and then analyze the output distribution of a neuron in the test data. If the later one \"covers\" the former, we can conclude that the testing data has covered some cases which the model never saw in the training process.\n",
    "\n",
    "Now let's take a look at the Neuron Boundary Coverage (NBC)."
   ]
  },
  {
   "cell_type": "markdown",
   "id": "f441a00f",
   "metadata": {
    "id": "f441a00f"
   },
   "source": [
    "<font color='red' size=3> Definition 1</font> \n",
    "\n",
    "For a neuron n, let $high_n$ and $low_n$ be its upper and lower boundary output values, respectively, on the value range of its activation function, where $high_n$ and $low_n$ are derived from the training dataset analysis.\n",
    "\n",
    "<font color='red' size=3> Definition 2</font> \n",
    "\n",
    "For a test input $x \\in T$ , we say that a DNN is located in its major function region given x iff $\\forall n \\in N : \\phi(x,n) \\in [low_n, high_n]$ ."
   ]
  },
  {
   "cell_type": "markdown",
   "id": "570463d4",
   "metadata": {
    "id": "570463d4"
   },
   "source": [
    "As you can see, here we define the \"distribution\" of a neuron by measuring its **output range**. Based on this, we then define:"
   ]
  },
  {
   "cell_type": "markdown",
   "id": "b0fefe8f",
   "metadata": {
    "id": "b0fefe8f"
   },
   "source": [
    "<font color='red' size=3> Definition 3</font> \n",
    "\n",
    "UpperCornerNeuron = {$n \\in N | \\exists x \\in T: \\phi(x, n) \\in (high_n, +\\infty)$};\n",
    "\n",
    "LowerCornerNeuron = {$n \\in N | \\exists x \\in T: \\phi(x, n) \\in (-\\infty, low_n)$};"
   ]
  },
  {
   "cell_type": "markdown",
   "id": "bfca3352",
   "metadata": {
    "id": "bfca3352"
   },
   "source": [
    "Definition 3 define two types of situations where the output of neuron is in the corner-case regions (Not present in the training data.) We assume that if at test time, the more corner cases you find, the better chance you can test the DNN thoroughly."
   ]
  },
  {
   "cell_type": "markdown",
   "id": "471755aa",
   "metadata": {
    "id": "471755aa"
   },
   "source": [
    "Finally, we give the definition of Neuron Boundary Coverage:\n",
    "\n",
    "<font color='red' size=3> Definition 4</font>\n",
    "\n",
    "NBCov(T) = $\\frac{|UpperCornerNeuron| + |LowerCornerNeuron|}{2 \\times |N|}$\n",
    "\n",
    "Where $|\\cdot|$ indicates the number, e.g., $|N|$ indicates the number of all neurons."
   ]
  },
  {
   "cell_type": "markdown",
   "id": "b6f8a9a9",
   "metadata": {
    "id": "b6f8a9a9"
   },
   "source": [
    "**In the following, we will implement NBC.**"
   ]
  },
  {
   "cell_type": "markdown",
   "id": "06cf873e",
   "metadata": {
    "id": "06cf873e"
   },
   "source": [
    "<font color='blue' size=4> Profile the DNN on training data</font>"
   ]
  },
  {
   "cell_type": "markdown",
   "id": "d17af30d",
   "metadata": {
    "id": "d17af30d"
   },
   "source": [
    "We will first profile the DNN on training data to get the output range.\n",
    "\n",
    "(What we are doing here is just like instrumentation in traditional software testing.)\n",
    "\n",
    "To get the output of each neuron, we need to get the output of each intermediate layer. For PyTorch, this can be done using hook. If you are interested in thie technique, you can check this video: [PyTorch Hooks Explained - In-depth Tutorial](https://www.youtube.com/watch?v=syLFCVYua6Q). While in this assignment we have implemented a function called `feature_list` that returns all the intermediate result for you:\n",
    "\n",
    "```\n",
    "logits, out_list, name_list = model.feature_list(data)\n",
    "# logits: the final output\n",
    "# output_list: the output of each intermediate layer\n",
    "# name_list: the list of names for each intermediate layer\n",
    "```\n",
    "\n",
    "Use this function, let's profile the DNN"
   ]
  },
  {
   "cell_type": "markdown",
   "id": "e0fc0081",
   "metadata": {
    "id": "e0fc0081"
   },
   "source": [
    "<font color='blue' size=3> Please complete the todo listed in the function shown below</font> <font color='red' size=3> (3 points)</font>"
   ]
  },
  {
   "cell_type": "markdown",
   "id": "16b328ce",
   "metadata": {
    "id": "16b328ce"
   },
   "source": [
    "Functions that you \\*may\\* need to use here:\n",
    "\n",
    "[function Tensor.reshape](https://pytorch.org/docs/stable/generated/torch.reshape.html)\n",
    "\n",
    "    Returns a tensor with the same data and number of elements as input, but with the specified shape. \n",
    "    `torch.tensor([1, 2]).reshape`\n",
    "\n",
    "[function Tensor.max](https://pytorch.org/docs/stable/generated/torch.max.html?highlight=max#torch.max)\n",
    "    \n",
    "    Returns the maximum value of all elements in the input tensor.\n",
    "    `torch.tensor([1, 2]).max`\n",
    "\n",
    "[function Tensor.min](https://pytorch.org/docs/stable/generated/torch.min.html?highlight=min#torch.min)\n",
    "    \n",
    "    Returns the minimum value of all elements in the input tensor.\n",
    "    `torch.tensor([1, 2]).min`\n",
    "\n",
    "[torch.flatten](https://pytorch.org/docs/stable/generated/torch.flatten.html?highlight=flatten#torch.flatten)\n",
    "    \n",
    "    Flattens input by reshaping it into a one-dimensional tensor. "
   ]
  },
  {
   "cell_type": "code",
   "execution_count": 7,
   "id": "23dff3db",
   "metadata": {
    "id": "23dff3db"
   },
   "outputs": [],
   "source": [
    "import collections\n",
    "def profile_DNN(net, dataloader):\n",
    "    \"\"\"\n",
    "    Profile the DNN and return a cov_dict contains the necessary information\n",
    "    ---\n",
    "    Args\n",
    "        net: torch.nn.Module Deep learning model.\n",
    "        dataloader: torch.utils.data.DataLoader The pytorch dataloader.\n",
    "    Returns:\n",
    "        cov_dict: a dict contains (layer_name, neuron_id) --> (neurons_min, neurons_max) mapping.\n",
    "    \n",
    "    \"\"\"\n",
    "    net.eval()\n",
    "    cov_dict = collections.OrderedDict()\n",
    "    batch_num = len(dataloader)\n",
    "    for idx, (data, label) in enumerate(dataloader):\n",
    "        with torch.no_grad():\n",
    "            logits, out_list, name_list = net.feature_list(data)\n",
    "        if idx % 100 == 0:\n",
    "            print(\"* finish {}/{} proportion\".format(idx, batch_num))\n",
    "        \n",
    "        # Iterate through all output layers in the output list\n",
    "        for layer_id in range(len(out_list)):\n",
    "            cur_layer = name_list[layer_id] # record the name of current layer\n",
    "            \n",
    "            '''\n",
    "            Recall the definition of neurons. For a linear layer, the output is [Batch_size, neurons]\n",
    "            While for a convolutional layer, the output is [Batch_size, channel, H, w]\n",
    "            As we define that every entry in the 3D output volume is one neuron, \n",
    "            the number of neurons in conv layer is just channel * H * W.\n",
    "            '''\n",
    "            \n",
    "            cur_neuron_num = 1\n",
    "            \n",
    "            '''\n",
    "            Please compute the number of neurons in the DNN and store the result in cur_neuron_num.\n",
    "            '''\n",
    "            \n",
    "            # ======Below is TODO====== #\n",
    "            dims = torch.tensor(out_list[layer_id].shape)\n",
    "            cur_neuron_num = torch.prod(dims[1:]).item()\n",
    "            # ======Above is TODO====== #\n",
    "            \n",
    "            '''\n",
    "            Please records the max value and min value over **batch** (the first dimension) from the **out_list**\n",
    "            Hint: you can use torch.flatten or reshape to turn a multi-dimension tensor\n",
    "            into one-dimension tensor to [C, H, W] --> [N] can be easily used to represent neurons.\n",
    "            Data structure used here: out_list, neurons_max, neurons_min\n",
    "            '''\n",
    "            \n",
    "            # ======Below is TODO====== #\n",
    "            neurons_min = torch.flatten(torch.min(out_list[layer_id], dim=0).values)\n",
    "            neurons_max = torch.flatten(torch.max(out_list[layer_id], dim=0).values)\n",
    "            # ======Above is TODO====== #\n",
    "\n",
    "            for neuron_id in range(cur_neuron_num):\n",
    "                # Please record the range of the neuron for key (cur_layer, neuron_id).\n",
    "                if (cur_layer, neuron_id) not in cov_dict:\n",
    "                    # The fisrt time to record the pair.\n",
    "                    cov_dict[(cur_layer, neuron_id)] = [None, None] # Initialize [Lower, upper]\n",
    "                \n",
    "                profile_data_list = cov_dict[(cur_layer, neuron_id)]\n",
    "\n",
    "                '''\n",
    "                Please compare the result in neurons_max, neurons_min with that in profile_data_list\n",
    "                If neurons_max is larger than the data in profile_data_list\n",
    "                store it in the upper_bound and store back to the profile_data_list.\n",
    "                Data structure used here: lower_bound, upper_bound, neurons_min, neurons_max\n",
    "                '''\n",
    "                \n",
    "                # ======Below is TODO====== #\n",
    "                lower_bound = neurons_min[neuron_id].item() if profile_data_list[0] is None else \\\n",
    "                    min(neurons_min[neuron_id].item(), profile_data_list[0])\n",
    "                \n",
    "                upper_bound = neurons_max[neuron_id].item() if profile_data_list[1] is None else \\\n",
    "                    max(neurons_max[neuron_id].item(), profile_data_list[1])\n",
    "                # ======Above is TODO====== #\n",
    "                \n",
    "                profile_data_list[0] = lower_bound\n",
    "                profile_data_list[1] = upper_bound\n",
    "                cov_dict[(cur_layer, neuron_id)] = profile_data_list\n",
    "            \n",
    "    return cov_dict"
   ]
  },
  {
   "cell_type": "code",
   "execution_count": 8,
   "id": "836f8188",
   "metadata": {},
   "outputs": [],
   "source": [
    "from all_utils import check_cov_list"
   ]
  },
  {
   "cell_type": "code",
   "execution_count": 9,
   "id": "122feebc",
   "metadata": {
    "colab": {
     "base_uri": "https://localhost:8080/",
     "height": 334
    },
    "id": "122feebc",
    "outputId": "67560424-b5ad-4375-edd4-937c0d2a2436",
    "scrolled": true
   },
   "outputs": [
    {
     "name": "stdout",
     "output_type": "stream",
     "text": [
      "* finish 0/750 proportion\n",
      "* finish 100/750 proportion\n",
      "* finish 200/750 proportion\n",
      "* finish 300/750 proportion\n",
      "* finish 400/750 proportion\n",
      "* finish 500/750 proportion\n",
      "* finish 600/750 proportion\n",
      "* finish 700/750 proportion\n"
     ]
    },
    {
     "data": {
      "text/plain": [
       "'Congratulation! You have passed the sanity check'"
      ]
     },
     "execution_count": 9,
     "metadata": {},
     "output_type": "execute_result"
    }
   ],
   "source": [
    "train_cov_dict = profile_DNN(model, train_loader)\n",
    "check_cov_list(train_cov_dict)"
   ]
  },
  {
   "cell_type": "markdown",
   "id": "04fc431d",
   "metadata": {
    "id": "04fc431d"
   },
   "source": [
    "Well Done! Let's now implement the NBC metric"
   ]
  },
  {
   "cell_type": "markdown",
   "id": "6e7d4e55",
   "metadata": {
    "id": "6e7d4e55"
   },
   "source": [
    "<font color='blue' size=4> Implement NBC</font>"
   ]
  },
  {
   "cell_type": "markdown",
   "id": "b90a5c2d",
   "metadata": {
    "id": "b90a5c2d"
   },
   "source": [
    "<font color='blue' size=3> Please complete the todo listed in the function shown below</font> <font color='red' size=3> (4 points)</font>"
   ]
  },
  {
   "cell_type": "code",
   "execution_count": 10,
   "id": "1f17b3f7",
   "metadata": {
    "id": "1f17b3f7"
   },
   "outputs": [],
   "source": [
    "def compute_NBCov(net, dataloader, cov_dict):\n",
    "    \"\"\"\n",
    "    Compute the Neuron Boundary Coverage metric on a given data loader.\n",
    "    ---\n",
    "    Args\n",
    "        net: torch.nn.Module Deep learning model.\n",
    "        dataloader: torch.utils.data.DataLoader The pytorch dataloader.\n",
    "        cov_dict: a dict contains (layer_name, neuron_id) --> (neurons_min, neurons_max) mapping.\n",
    "    Returns:\n",
    "        result: the coverage result\n",
    "    \n",
    "    \"\"\"\n",
    "    net.eval()\n",
    "    coverage_recorder = collections.OrderedDict()\n",
    "    batch_num = len(dataloader)\n",
    "    for idx, (data, label) in enumerate(dataloader):\n",
    "        with torch.no_grad():\n",
    "            logits, out_list, name_list = net.feature_list(data)\n",
    "        if idx % 100 == 0:\n",
    "            print(\"* finish {}/{} proportion\".format(idx, batch_num))\n",
    "        \n",
    "        # Iterate through all output layers in the output list\n",
    "        for layer_id in range(len(out_list)):\n",
    "            # record the name of current layer\n",
    "            cur_layer = name_list[layer_id]\n",
    "            cur_neuron_num = 1\n",
    "            \n",
    "            '''\n",
    "            Please compute the number of neurons in the DNN and store the result in cur_neuron_num.\n",
    "            Compute neurons_max and neurons_min based on **out_list**\n",
    "            '''\n",
    "\n",
    "            # ======Below is TODO====== #\n",
    "            dims = torch.tensor(out_list[layer_id].shape)\n",
    "            cur_neuron_num = torch.prod(dims[1:]).item()   \n",
    "               \n",
    "            neurons_min = torch.flatten(torch.min(out_list[layer_id], dim=0).values)\n",
    "            neurons_max = torch.flatten(torch.max(out_list[layer_id], dim=0).values)\n",
    "            # ======Above is TODO====== #\n",
    "\n",
    "            # Compare the result in cov_dict and record neurons who has been covered.\n",
    "            for neuron_id in range(cur_neuron_num):\n",
    "                if (cur_layer, neuron_id) not in coverage_recorder:\n",
    "                    # Init the coverage_recorder\n",
    "                    # [(cur_layer, neuron_id)] = [0, 0] (LowerCornerNeuron, UpperCornerNeuron)\n",
    "                    coverage_recorder[(cur_layer, neuron_id)] = [0, 0] # LowerCornerNeuron, UpperCornerNeuron\n",
    "                \n",
    "                '''\n",
    "                Compare the output in neurons_min(neurons_max) and and cov_dict\n",
    "                If the neuron is covered in LowerCorner, set LowerCornerNeuron = 1\n",
    "                If the neuron is covered in UpperCorner, set UpperCornerNeuron = 1\n",
    "                Data sturcture used here: cov_dict, neurons_min, neurons_max, coverage_recorder\n",
    "                '''\n",
    "                \n",
    "                # ======Below is TODO====== #\n",
    "                if neurons_min[neuron_id] < cov_dict[(cur_layer, neuron_id)][0]:\n",
    "                    coverage_recorder[(cur_layer, neuron_id)][0] = 1\n",
    "                if neurons_max[neuron_id] > cov_dict[(cur_layer, neuron_id)][1]:\n",
    "                    coverage_recorder[(cur_layer, neuron_id)][1] = 1\n",
    "\n",
    "                # ======Above is TODO====== #\n",
    "    \n",
    "    num_of_coverage_neuron = 0\n",
    "    \n",
    "    '''\n",
    "    Compute the number of neurons that are covered\n",
    "    Data sturcture used here: coverage_recorder, result\n",
    "    '''\n",
    "    \n",
    "    # ======Below is TODO====== #\n",
    "    num_of_coverage_neuron = np.array(list(coverage_recorder.values())).sum()\n",
    "    result = num_of_coverage_neuron/(2*len(coverage_recorder))\n",
    "    # ======Above is TODO====== #\n",
    "    \n",
    "    return result"
   ]
  },
  {
   "cell_type": "code",
   "execution_count": 11,
   "id": "0f1c4189",
   "metadata": {
    "colab": {
     "base_uri": "https://localhost:8080/"
    },
    "id": "0f1c4189",
    "outputId": "b0ed85d2-5147-4cdb-a64a-e47c9fbc4d15"
   },
   "outputs": [
    {
     "name": "stdout",
     "output_type": "stream",
     "text": [
      "* finish 0/157 proportion\n",
      "* finish 100/157 proportion\n",
      "Your cov result is 0.14933958244567533\n"
     ]
    }
   ],
   "source": [
    "cov_result = compute_NBCov(model, test_loader, train_cov_dict)\n",
    "print(\"Your cov result is {}\".format(cov_result))"
   ]
  },
  {
   "cell_type": "markdown",
   "id": "01bf737a",
   "metadata": {
    "id": "01bf737a"
   },
   "source": [
    "### 2.2 Mutation <font color='red' size=3> (6 points)</font>"
   ]
  },
  {
   "cell_type": "markdown",
   "id": "f0522196",
   "metadata": {
    "id": "f0522196"
   },
   "source": [
    "We have successfully implemented one testing metric. Now let's move to the next task: test generation.\n",
    "\n",
    "As we've mentioned before, the size of test set is usually limited, but it's necessary to have more test cases if we want to know whether the trained DNN works well in a diverse environment. \n",
    "\n",
    "In traditional software testing, there is a technique called [mutation testing](https://en.wikipedia.org/wiki/Mutation_testing). Based on a limited number of initial testing programs (seeds), we can apply mutations (modifying a program in small ways) on them to get more testing cases.\n",
    "\n",
    "In mutation testing, there are two things to keep in mind:\n",
    "\n",
    "1. How to define the mutation operations, so the test cases after mutation is valid.\n",
    "\n",
    "2. What's the expeceted behavior of the system under test for the mutated result?"
   ]
  },
  {
   "cell_type": "markdown",
   "id": "d5d0d9a2",
   "metadata": {
    "id": "d5d0d9a2"
   },
   "source": [
    "#### 2.2.1 Mutation Testing: generate valid test cases <font color='red' size=3> (6 points)</font>"
   ]
  },
  {
   "cell_type": "markdown",
   "id": "9840574d",
   "metadata": {
    "id": "9840574d"
   },
   "source": [
    "#### Mutation on images:\n",
    "\n",
    "Since we are testing an image classifier, we need to search for transformations that are capable of transforming an image while keeping its semantics. There are many choices available, for example:\n",
    "    \n",
    "1. image_brightness: adjust the brightness of image.\n",
    "\n",
    "2. image_noise: add some noise to the image.\n",
    "\n",
    "3. image_scale: scale the image.\n",
    "\n",
    "4. ..."
   ]
  },
  {
   "cell_type": "code",
   "execution_count": 20,
   "id": "543d739d",
   "metadata": {
    "colab": {
     "base_uri": "https://localhost:8080/",
     "height": 265
    },
    "id": "543d739d",
    "outputId": "7895db3d-fe0c-4ba1-8330-e47f883544d2"
   },
   "outputs": [
    {
     "data": {
      "image/png": "[encoded data removed]",
      "text/plain": [
       "<Figure size 432x288 with 1 Axes>"
      ]
     },
     "metadata": {
      "needs_background": "light"
     },
     "output_type": "display_data"
    }
   ],
   "source": [
    "# Let's see some examples\n",
    "# This is image_scale\n",
    "from all_utils import image_scale\n",
    "seed = np.expand_dims(number_a, 0)\n",
    "result = image_scale(seed, 2)\n",
    "plot_image(result)"
   ]
  },
  {
   "cell_type": "code",
   "execution_count": 21,
   "id": "65107b0f",
   "metadata": {
    "colab": {
     "base_uri": "https://localhost:8080/",
     "height": 265
    },
    "id": "65107b0f",
    "outputId": "97d9efb2-110b-4f7b-df46-3c84d75b04e7"
   },
   "outputs": [
    {
     "data": {
      "image/png": "[encoded data removed]",
      "text/plain": [
       "<Figure size 432x288 with 1 Axes>"
      ]
     },
     "metadata": {
      "needs_background": "light"
     },
     "output_type": "display_data"
    }
   ],
   "source": [
    "# Let's see some examples\n",
    "# This is image_noise\n",
    "from all_utils import image_noise\n",
    "seed = np.expand_dims(number_a, 0)\n",
    "result = image_noise(seed, 1)\n",
    "plot_image(result)"
   ]
  },
  {
   "cell_type": "markdown",
   "id": "f78695d5",
   "metadata": {
    "id": "f78695d5"
   },
   "source": [
    "These transformations are already been implemented, which could be classified as two types: \n",
    "\n",
    "class A (pixel value transformation).\n",
    "\n",
    "class B (Affine transformation)."
   ]
  },
  {
   "cell_type": "code",
   "execution_count": 12,
   "id": "3044e352",
   "metadata": {
    "id": "3044e352"
   },
   "outputs": [],
   "source": [
    "from all_utils import Mutators\n",
    "mutator_instance = Mutators()"
   ]
  },
  {
   "cell_type": "code",
   "execution_count": 16,
   "id": "e195da6d",
   "metadata": {},
   "outputs": [],
   "source": [
    "mutator_instance.transformations[6]"
   ]
  },
  {
   "cell_type": "code",
   "execution_count": 13,
   "id": "208c44a2",
   "metadata": {
    "colab": {
     "base_uri": "https://localhost:8080/"
    },
    "id": "208c44a2",
    "outputId": "5cd2170b-264e-421e-c43e-ad25e142c40f"
   },
   "outputs": [
    {
     "name": "stdout",
     "output_type": "stream",
     "text": [
      "===Pixel value transformation===\n",
      "image_pixel_change\n",
      "image_noise\n",
      "\n",
      "===Affine transformation===\n",
      "image_scale\n",
      "image_shear\n",
      "image_rotation\n",
      "image_contrast\n",
      "image_brightness\n",
      "image_blur\n"
     ]
    }
   ],
   "source": [
    "print(\"===Pixel value transformation===\")\n",
    "for i in mutator_instance.classA:\n",
    "    print(mutator_instance.transformations[i].__name__)\n",
    "print()\n",
    "print(\"===Affine transformation===\")\n",
    "for i in mutator_instance.classB:\n",
    "    print(mutator_instance.transformations[i].__name__)"
   ]
  },
  {
   "cell_type": "markdown",
   "id": "8189bce2",
   "metadata": {
    "id": "8189bce2"
   },
   "source": [
    "We can easily define what is valid test cases for classical software. For example, a program that add `int a` with `int b` should not receive two imaginary numbers as input. But what is \"valid\" for DNN? Let's take a look at some definitions from DeepHunter."
   ]
  },
  {
   "cell_type": "markdown",
   "id": "f90c3808",
   "metadata": {
    "id": "f90c3808"
   },
   "source": [
    "<font color='red' size=3> Definition 5</font> \n",
    "\n",
    "Given an ideal human oracle O and a test x of a specific input domain, we define metamorphic mutation $M$ on $x$, if\n",
    "$\\forall x  \\in M(x)$, we have $O(x') = O(x)$ .\n",
    "\n",
    "This is to say, the metamorphic mutation does not change the semantic of the image. At least human should identify $x$ and $x'$ as the same image"
   ]
  },
  {
   "cell_type": "markdown",
   "id": "1f03d080",
   "metadata": {
    "id": "1f03d080"
   },
   "source": [
    "<font color='red' size=3> Definition 6</font> \n",
    "\n",
    "An image $s'$ is one-time mutated from $s$ if $s'$ is generated after a transformation $t$ on $s$ (denoted as $s \\stackrel{t}{\\longrightarrow}$ $s'$). An image $s'$ is sequentially mutated from s if $s'$ is generated after a sequence of one-time mutations (denoted as $s \\stackrel{t_0, t_1, \\ldots, t_n}{\\longrightarrow}$ $s'$).\n",
    "\n",
    "Allow sequential mutataion can greatly improve the diversity of th testing"
   ]
  },
  {
   "cell_type": "markdown",
   "id": "f84d30d0",
   "metadata": {
    "id": "f84d30d0"
   },
   "source": [
    "<font color='green' size=3> Summary: No matter for one-time mutations or a sequence of mutations, we have to ensure that they are metamorphic mutations</font> "
   ]
  },
  {
   "cell_type": "markdown",
   "id": "a5c683bd",
   "metadata": {
    "id": "a5c683bd"
   },
   "source": [
    "<font color='red' size=3> Definition 7</font>\n",
    "\n",
    "The image $s'$ after transformation, and the original image $s$ are the same if:\n",
    "\n",
    "1. There are no more than one affine transformation between $s'$ and $s$.\n",
    "\n",
    "2. The pixel value changes between $s'$ and $s$ satisfied:\n",
    "\n",
    "\\begin{equation*}\n",
    "    f(s, s') = \\left\\{\\begin{array}{lr}\n",
    "        L_{\\infty}(s, s')  \\leq 255 &\\qquad \\text{if} \n",
    "        \\quad L_0(s, s') < \\alpha \\times size(s) \\\\\n",
    "        L_{\\infty}(s, s') < \\beta \\times 255 & \\text{otherwise} \\\\\n",
    "        \\end{array}\\right\\} \\\\\n",
    "\\end{equation*}\n",
    "\n",
    "(Equation 1 in [DeepHunter: A Coverage-Guided Fuzz Testing Framework for Deep Neural Networks](https://dl.acm.org/doi/pdf/10.1145/3293882.3330579?casa_token=mGUOGHi9qrcAAAAA:G28BWlY6XueMERjYHKWyW7w5jfGQrzF3fyml6ThPX0Rq8yUE4NYTz28s83fllXvaRItcpflNbBtdEYs))\n",
    "\n",
    "Where:\n",
    "\n",
    "\\begin{equation*}\n",
    "\\begin{aligned}\n",
    "    L_0(s, s') &= L_0(s_0, s_{j-1}) + L_0(s_j, s') \\\\\n",
    "    L_{\\infty}(s, s') &= L_0(s_0, s_{j-1}) + L_0(s_j, s') \\\\\n",
    "\\end{aligned}\n",
    "\\end{equation*}\n",
    "\n",
    "$s_{j-1}$ is the transformed image before one affine transformation\n",
    "\n",
    "$L_0$ and $L_{\\infty}$ is the 0-norm and infinity-norm. $L_0(a, b) = sum((a - b) != 0)$, $L_0(a, b) = sum((a - b) != 0)$, $L_{\\infty}(a, b) = max((a-b))$"
   ]
  },
  {
   "cell_type": "markdown",
   "id": "c316587f",
   "metadata": {
    "id": "c316587f"
   },
   "source": [
    "The intuition behind Definition 7:\n",
    "\n",
    "1. The pixel value should not be changed too much, so the semantic of the transformed image does not change. This change is measured by the subtraction.\n",
    "\n",
    "2. Affine transformation will change the position of each pixel, making the norm measurement inaccurate (Take a look at `image_scale` example). As a result, we cut the sequence of transformations into two parts, measuring each independently."
   ]
  },
  {
   "cell_type": "markdown",
   "id": "87df8163",
   "metadata": {
    "id": "87df8163"
   },
   "source": [
    "Based on all the definitions above, we have Algorithm 2 in [DeepHunter: A Coverage-Guided Fuzz Testing Framework for Deep Neural Networks](https://dl.acm.org/doi/pdf/10.1145/3293882.3330579?casa_token=mGUOGHi9qrcAAAAA:G28BWlY6XueMERjYHKWyW7w5jfGQrzF3fyml6ThPX0Rq8yUE4NYTz28s83fllXvaRItcpflNbBtdEYs)"
   ]
  },
  {
   "cell_type": "markdown",
   "id": "184dacef",
   "metadata": {
    "id": "184dacef"
   },
   "source": [
    "![Title](https://raw.githubusercontent.com/momentum-openspace/momentum-openspace.github.io/new-template/files/asg2/pic/alg_2.png)"
   ]
  },
  {
   "cell_type": "markdown",
   "id": "17dfa018",
   "metadata": {
    "id": "17dfa018"
   },
   "source": [
    "<font color='blue' size=4> Please answer the following question</font> <font color='red' size=4> (2 points)</font>"
   ]
  },
  {
   "cell_type": "markdown",
   "id": "8d1907bb",
   "metadata": {
    "id": "8d1907bb"
   },
   "source": [
    "<font color='blue' size=3> For all images returned in Algorithm 2, how many mutations are applied for each image if the success flag is True ? How does sequential mutations done in Deephunter? </font>"
   ]
  },
  {
   "cell_type": "markdown",
   "id": "c29f72fd",
   "metadata": {
    "id": "c29f72fd"
   },
   "source": [
    "Hint: Take a look at algorithm 1"
   ]
  },
  {
   "cell_type": "markdown",
   "id": "eb91f542",
   "metadata": {
    "id": "eb91f542"
   },
   "source": [
    "![Title](https://raw.githubusercontent.com/momentum-openspace/momentum-openspace.github.io/new-template/files/asg2/pic/alg_1.png)"
   ]
  },
  {
   "cell_type": "markdown",
   "id": "0f631676",
   "metadata": {
    "id": "0f631676"
   },
   "source": [
    "<font color='blue' size=4> Please complete the todo listed in the function shown below</font> <font color='red' size=4> (4 points)</font>"
   ]
  },
  {
   "cell_type": "markdown",
   "id": "e5e427df",
   "metadata": {
    "id": "e5e427df"
   },
   "source": [
    "<font color='blue' size=3> Please also attach three images after mutating in the final report</font> "
   ]
  },
  {
   "cell_type": "code",
   "execution_count": 17,
   "id": "f08f8c2d",
   "metadata": {
    "id": "f08f8c2d"
   },
   "outputs": [],
   "source": [
    "import random\n",
    "from all_utils import Mutators\n",
    "import cv2\n",
    "import time\n",
    "import copy\n",
    "\n",
    "# We are going to implement Line 5 ~ 18 in Algorithm 2 in the original paper.\n",
    "\n",
    "\n",
    "def mutate_one(ref_img, \n",
    "               img, \n",
    "               has_Affine, \n",
    "               l0_ref, \n",
    "               linf_ref,\n",
    "               alpha=0.02,\n",
    "               beta=0.20, \n",
    "               try_num=50):\n",
    "    \"\"\"\n",
    "    Mutate the image for once.\n",
    "    Line 5 ~ 18 in Algorithm 2 in the original paper.\n",
    "    Args\n",
    "    ---\n",
    "        ref_img: reference image. s0' in the original paper. In the format (C, H, W)\n",
    "            Notice: s0 is the original reference image and we actually does not need it here.\n",
    "        img: the seed. s in the original paper. In the format (C, H, W)\n",
    "        has_Affine: Flag for indicating whether we have applied affine transformation on the image.\n",
    "        l0_ref: The value for L_0(s_0, s_{j-1}). It is used to compute L_0(s_0, s_n) in the equation 2.\n",
    "        linf_ref: The value for L_infinity(s_0, s_{j-1}). It is used to \n",
    "            compute L_infinity(s_0, s_n) in the equation 2.\n",
    "        alpha: alpha in equation 1.\n",
    "        betra: beta in equation 1.\n",
    "        try_num: TRY_NUM in Algorithm 2.\n",
    "        \n",
    "    Returns:\n",
    "        ref_img: reference image. s0' in the original paper.\n",
    "        img: the image after transformation\n",
    "        has_Affine: Updated flag\n",
    "        changed: whether there is actually change for the image.\n",
    "        l0_ref: updated l0_ref.\n",
    "        linf_ref: updated line_ref.\n",
    "    \"\"\"\n",
    "    # ref_img is the reference image, img is the seed\n",
    "\n",
    "    # cl means the current state of transformation\n",
    "    # 0 means it can select both of Affine and Pixel transformations\n",
    "    # 1 means it only select pixel transformation because an Affine transformation has been used before\n",
    "\n",
    "    # l0_ref, linf_ref: if the current seed is mutated from affine transformation, we will record the l0, l_inf\n",
    "    # between initial image and the reference image. i.e., L0(s_0,s_{j-1}) L_inf(s_0,s_{j-1}) in Equation 2 of the paper\n",
    "\n",
    "    # tyr_num is the maximum number of trials in Algorithm 2\n",
    "    \n",
    "    if isinstance(ref_img, torch.Tensor):\n",
    "        ref_img = ref_img.numpy()\n",
    "        img = img.numpy()\n",
    "        is_torch = True\n",
    "    else:\n",
    "        is_torch = False\n",
    "        \n",
    "    c, h, w = img.shape\n",
    "    mutator_instance = Mutators()\n",
    "    # a, b is the alpha and beta in Equation 1 in the paper\n",
    "\n",
    "    # l0_threshold: alpha * size(s), l_infinity_threshold: beta * 255 in Equation 1\n",
    "    l0_threshold = int(alpha * c * h * w)\n",
    "    l_infinity_threshold = int(beta * 255)\n",
    "    ori_shape = ref_img.shape\n",
    "    \n",
    "    for ii in range(try_num):\n",
    "        random.seed(time.time())\n",
    "        if has_Affine == 0:  # 0: can choose class A and B Line-6 of the algorithm\n",
    "            tid = random.sample(mutator_instance.classA + mutator_instance.classB, 1)[0]\n",
    "            # Randomly select one transformation   Line-7 in Algorithm2\n",
    "            transformation = mutator_instance.transformations[tid]\n",
    "            params = mutator_instance.params[tid]\n",
    "            # Randomly select one parameter Line 10 in Algo2\n",
    "            param = random.sample(params, 1)[0]\n",
    "\n",
    "            # Perform the transformation  Line 11 in Algo2\n",
    "            img_new = transformation(copy.deepcopy(img), param)\n",
    "            img_new = img_new.reshape(ori_shape)\n",
    "            \n",
    "            \n",
    "            '''\n",
    "            Notice: the Equation 1 and Line 12 in Algo2 is satisfied \n",
    "            if the transformation is affine transformation\n",
    "            So the line 12 of the algorithm is moved down.\n",
    "            '''\n",
    "            \n",
    "            if tid in mutator_instance.classA: # Line\n",
    "                \n",
    "                '''\n",
    "                check whether it is a valid mutation. i.e., Equation 1 and Line 12 in Algo2\n",
    "                You need to compute l0_ref, linf_ref, and compare them with their own\n",
    "                threshold.\n",
    "                Data structure used here:  ref_img, img_new, l0_ref, l0_threshold\n",
    "                  linf_ref, l_infinity_threshold\n",
    "                '''\n",
    "                \n",
    "                # ======Below is TODO====== #\n",
    "                dif = ref_img - img_new\n",
    "                l0_ref = np.sum(dif != 0)\n",
    "                linf_ref = np.max(abs(dif))\n",
    "                if l0_ref < l0_threshold or linf_ref < l_infinity_threshold: # line 12 of the algorithm 2. We move the comparision down here.\n",
    "                    return ref_img, img_new, 0, 1, l0_ref, linf_ref\n",
    "                # ======Above is TODO====== #\n",
    "                \n",
    "            else:  # B, C\n",
    "                \n",
    "                '''\n",
    "                If the current transformation is an Affine trans, we will update the reference image and\n",
    "                the transformation state of the seed.\n",
    "                '''\n",
    "                \n",
    "                ref_img = transformation(copy.deepcopy(ref_img), param)\n",
    "                ref_img = ref_img.reshape(ori_shape)\n",
    "                    \n",
    "                # ======Below is TODO====== #\n",
    "                return ref_img, img_new, 1, 1, l0_ref, linf_ref\n",
    "                # ======Above is TODO====== #\n",
    "            \n",
    "        elif has_Affine == 1: # 0: can only choose class A. Line 6 of the original algorithm fails.\n",
    "            tid = random.sample(mutator_instance.classA, 1)[0]\n",
    "            transformation = mutator_instance.transformations[tid]\n",
    "            params = mutator_instance.params[tid]\n",
    "            param = random.sample(params, 1)[0]\n",
    "            img_new = transformation(copy.deepcopy(img), param)\n",
    "            \n",
    "            \n",
    "            '''\n",
    "            Compute the value in Equation 2 in the paper.\n",
    "            So the comparision can be done below.\n",
    "            Data structure used here: ref_img, img_new, l0_ref, linf_ref\n",
    "            '''\n",
    "            \n",
    "            # ======Below is TODO====== #\n",
    "            dif = ref_img - img_new\n",
    "            l0_new = l0_ref +  np.sum(dif != 0)\n",
    "            linf_new = max(linf_ref , np.max(abs(dif)))\n",
    "            if  l0_new < l0_threshold or linf_new < l_infinity_threshold: # line 12 of the algorithm 2. We move the comparision down here.\n",
    "                # The if statement is satisified, we can return the result.\n",
    "                return ref_img, img_new, 1, 1, l0_ref, linf_ref\n",
    "            \n",
    "            # ======Above is TODO====== #\n",
    "            \n",
    "    # Otherwise the mutation is failed. Line 20 in Algo 2\n",
    "    return ref_img, img, has_Affine, False, l0_ref, linf_ref"
   ]
  },
  {
   "cell_type": "code",
   "execution_count": 18,
   "id": "0c501087",
   "metadata": {
    "id": "0c501087"
   },
   "outputs": [],
   "source": [
    "seed = np.expand_dims(number_a, 0)"
   ]
  },
  {
   "cell_type": "code",
   "execution_count": 19,
   "id": "830608c6",
   "metadata": {
    "id": "830608c6"
   },
   "outputs": [],
   "source": [
    "ref_img_list = list()\n",
    "new_img_list = list()\n",
    "affline_flag_list = list()\n",
    "l0_ref_list = list()\n",
    "linf_ref_list = list()"
   ]
  },
  {
   "cell_type": "code",
   "execution_count": 25,
   "id": "30adf1ff",
   "metadata": {
    "id": "30adf1ff"
   },
   "outputs": [],
   "source": [
    "result = mutate_one(\n",
    "        seed,\n",
    "        seed,\n",
    "        False,\n",
    "        0,\n",
    "        0\n",
    ")\n",
    "result = all_utils.turn_numpy_into_torch_array(result)\n",
    "# Below are the data structures that store the necessary info\n",
    "# for future mutation.\n",
    "ref_img_list.append(result[0])\n",
    "new_img_list.append(result[1]) # T in the original paper\n",
    "affline_flag_list.append(result[2])\n",
    "l0_ref_list.append(result[3])\n",
    "linf_ref_list.append(result[4])"
   ]
  },
  {
   "cell_type": "code",
   "execution_count": 21,
   "id": "3a93bfa6",
   "metadata": {
    "colab": {
     "base_uri": "https://localhost:8080/",
     "height": 265
    },
    "id": "3a93bfa6",
    "outputId": "274a21ec-e11b-4539-e8f9-49fcb72a08b3"
   },
   "outputs": [
    {
     "data": {
      "image/png": "[encoded data removed]",
      "text/plain": [
       "<Figure size 432x288 with 1 Axes>"
      ]
     },
     "metadata": {
      "needs_background": "light"
     },
     "output_type": "display_data"
    }
   ],
   "source": [
    "plot_image(result[1])"
   ]
  },
  {
   "cell_type": "code",
   "execution_count": 29,
   "id": "31125d3b",
   "metadata": {},
   "outputs": [
    {
     "data": {
      "image/png": "[encoded data removed]",
      "text/plain": [
       "<Figure size 432x288 with 1 Axes>"
      ]
     },
     "metadata": {
      "needs_background": "light"
     },
     "output_type": "display_data"
    }
   ],
   "source": [
    "result = mutate_one(seed,seed,False,0,0)\n",
    "plot_image(result[1])"
   ]
  },
  {
   "cell_type": "code",
   "execution_count": 30,
   "id": "668d1a9c",
   "metadata": {},
   "outputs": [
    {
     "data": {
      "image/png": "[encoded data removed]",
      "text/plain": [
       "<Figure size 432x288 with 1 Axes>"
      ]
     },
     "metadata": {
      "needs_background": "light"
     },
     "output_type": "display_data"
    }
   ],
   "source": [
    "result = mutate_one(seed,seed,False,0,0)\n",
    "plot_image(result[1])"
   ]
  },
  {
   "cell_type": "markdown",
   "id": "2ada28a2",
   "metadata": {
    "id": "2ada28a2"
   },
   "source": [
    "## 3. Experiments <font color='red' size=5> (3 points)</font>"
   ]
  },
  {
   "cell_type": "markdown",
   "id": "f1793ae4",
   "metadata": {
    "id": "f1793ae4"
   },
   "source": [
    "In this section, you are asked to use `Algorithm 2` to do the mutation testing and use function `compute_NBCov` to evaluate the results.\n",
    "\n",
    "There are multiple ways to do the mutation testing:\n",
    "\n",
    "1. Just mutate every image for once in the test set. And combine the test set and mutated images as new dataset for testing.\n",
    "\n",
    "2. Implement Algorithm 1 in the original paper to guide the testing.\n",
    "\n",
    "3. Random select part of the images for testing.\n",
    "\n",
    "4. ...\n",
    "\n",
    "This is an open-ended question, feel free to use any ideas that come to your mind"
   ]
  },
  {
   "cell_type": "markdown",
   "id": "b746137a",
   "metadata": {
    "id": "b746137a"
   },
   "source": [
    "Here is an example to build self-defined dataset."
   ]
  },
  {
   "cell_type": "code",
   "execution_count": 40,
   "id": "b030645e",
   "metadata": {
    "id": "b030645e"
   },
   "outputs": [],
   "source": [
    "from torch.utils.data import TensorDataset"
   ]
  },
  {
   "cell_type": "code",
   "execution_count": 48,
   "id": "264a4d14",
   "metadata": {
    "id": "264a4d14"
   },
   "outputs": [],
   "source": [
    "test_image_set = list()\n",
    "labels = list()\n",
    "\n",
    "for imgs, label in test_loader:\n",
    "    for i in range(len(imgs)):\n",
    "        test_image_set.append(imgs[i].unsqueeze(0))\n",
    "        labels.append(int(label[i]))\n",
    "        \n",
    "        # ======Below is TODO====== #\n",
    "        changed = False\n",
    "        while not changed:\n",
    "            seed = imgs[i].numpy()\n",
    "            result = mutate_one(seed, seed, False, 0, 0)\n",
    "            result = all_utils.turn_numpy_into_torch_array(result)\n",
    "            changed = result[3]\n",
    "        \n",
    "        test_image_set.append(result[1].unsqueeze(0))\n",
    "        labels.append(int(label[i]))\n",
    "        # ======Above is TODO====== #"
   ]
  },
  {
   "cell_type": "code",
   "execution_count": 49,
   "id": "cfa5a26c",
   "metadata": {
    "id": "cfa5a26c"
   },
   "outputs": [],
   "source": [
    "new_test_dataset = TensorDataset(torch.cat(test_image_set), torch.tensor(labels))\n",
    "new_test_dataloader = torch.utils.data.DataLoader(new_test_dataset, batch_size=64)"
   ]
  },
  {
   "cell_type": "code",
   "execution_count": 50,
   "id": "9e58e7ca",
   "metadata": {
    "colab": {
     "base_uri": "https://localhost:8080/"
    },
    "id": "9e58e7ca",
    "outputId": "730a1d93-dd3e-4ebc-e0b0-dc93b6accede"
   },
   "outputs": [
    {
     "name": "stdout",
     "output_type": "stream",
     "text": [
      "* finish 0/313 proportion\n",
      "* finish 100/313 proportion\n",
      "* finish 200/313 proportion\n",
      "* finish 300/313 proportion\n"
     ]
    }
   ],
   "source": [
    "# train_cov_dict is obtained at section 2.1.2\n",
    "cov_result = compute_NBCov(model, new_test_dataloader, train_cov_dict)"
   ]
  },
  {
   "cell_type": "code",
   "execution_count": 51,
   "id": "ePN1txNn9jjN",
   "metadata": {
    "colab": {
     "base_uri": "https://localhost:8080/"
    },
    "id": "ePN1txNn9jjN",
    "outputId": "76e4731c-c7ad-4437-9d62-db370c473980"
   },
   "outputs": [
    {
     "name": "stdout",
     "output_type": "stream",
     "text": [
      "1.0\n"
     ]
    }
   ],
   "source": [
    "print(cov_result)"
   ]
  }
 ],
 "metadata": {
  "colab": {
   "collapsed_sections": [],
   "name": "HW2.ipynb",
   "provenance": []
  },
  "kernelspec": {
   "display_name": "Python 3 (ipykernel)",
   "language": "python",
   "name": "python3"
  },
  "language_info": {
   "codemirror_mode": {
    "name": "ipython",
    "version": 3
   },
   "file_extension": ".py",
   "mimetype": "text/x-python",
   "name": "python",
   "nbconvert_exporter": "python",
   "pygments_lexer": "ipython3",
   "version": "3.9.7"
  }
 },
 "nbformat": 4,
 "nbformat_minor": 5
}
